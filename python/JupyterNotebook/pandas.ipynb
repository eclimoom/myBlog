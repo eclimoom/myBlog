{
 "cells": [
  {
   "cell_type": "code",
   "execution_count": 2,
   "metadata": {},
   "outputs": [
    {
     "output_type": "stream",
     "name": "stdout",
     "text": [
      "0    1\n1    2\n2    3\n3    4\n4    5\n5    6\n6    7\n7    8\n8    9\ndtype: int32\na    1\nb    2\nc    3\nd    4\ndtype: int64\n"
     ]
    }
   ],
   "source": [
    "import numpy as np\n",
    "import pandas as pd\n",
    "from pandas import Series,DataFrame\n",
    "# Series带标签的一维同构数组\n",
    "# Series的index是可变的，而dict字典的key值是不可变的。\n",
    "# DataFrame带标签的，大小可变的，二维异构表格\n",
    "arr1 = np.arange(1,10)\n",
    "print(Series(np.arange(1,10)))\n",
    "data = Series([1,2,3,4],index = ['a','b','c','d'])\n",
    "print(data)"
   ]
  },
  {
   "cell_type": "code",
   "execution_count": 9,
   "metadata": {},
   "outputs": [
    {
     "output_type": "stream",
     "name": "stdout",
     "text": [
      "      book price\n0  哈佛幸福公开课    21\n1      断舍离    22\n2     刻意练习    23\n       book price\ncount     3     3\nunique    3     3\ntop     断舍离    21\nfreq      1     1\n"
     ]
    }
   ],
   "source": [
    "data = {'book':['哈佛幸福公开课','断舍离','刻意练习'],'price':['21','22','23']}\n",
    "df = DataFrame(data, columns=['book','price'])\n",
    "print(df)\n",
    "print(df.describe())"
   ]
  },
  {
   "cell_type": "code",
   "execution_count": 23,
   "metadata": {},
   "outputs": [
    {
     "output_type": "stream",
     "name": "stdout",
     "text": [
      "0    哈佛幸福公开课\n1        断舍离\n2       刻意练习\nName: book, dtype: object\n      book price\n0  哈佛幸福公开课    21\n"
     ]
    }
   ],
   "source": [
    "#获取数据\n",
    "# 选择单列，产生 Series\n",
    "print(df['book'])\n",
    "# 用 [ ] 切片行：\n",
    "print(df[0:1])"
   ]
  },
  {
   "cell_type": "code",
   "execution_count": 22,
   "metadata": {},
   "outputs": [
    {
     "output_type": "stream",
     "name": "stdout",
     "text": [
      "book     哈佛幸福公开课\nprice         21\nName: 0, dtype: object\n  price\n0    21\n1    22\n"
     ]
    }
   ],
   "source": [
    "# 用标签提取一行数据\n",
    "print(df.loc[0])\n",
    "# 用标签选择列数据\n",
    "print(df.loc[0:1,['price']])"
   ]
  },
  {
   "cell_type": "code",
   "execution_count": null,
   "metadata": {},
   "outputs": [],
   "source": [
    "# Pandas 主要用 np.nan 表示缺失数据。\n"
   ]
  },
  {
   "cell_type": "code",
   "execution_count": 17,
   "metadata": {},
   "outputs": [
    {
     "output_type": "execute_result",
     "data": {
      "text/plain": [
       "      book  price\n",
       "0  哈佛幸福公开课     21\n",
       "1      断舍离     22\n",
       "2     刻意练习     23"
      ],
      "text/html": "<div>\n<style scoped>\n    .dataframe tbody tr th:only-of-type {\n        vertical-align: middle;\n    }\n\n    .dataframe tbody tr th {\n        vertical-align: top;\n    }\n\n    .dataframe thead th {\n        text-align: right;\n    }\n</style>\n<table border=\"1\" class=\"dataframe\">\n  <thead>\n    <tr style=\"text-align: right;\">\n      <th></th>\n      <th>book</th>\n      <th>price</th>\n    </tr>\n  </thead>\n  <tbody>\n    <tr>\n      <th>0</th>\n      <td>哈佛幸福公开课</td>\n      <td>21</td>\n    </tr>\n    <tr>\n      <th>1</th>\n      <td>断舍离</td>\n      <td>22</td>\n    </tr>\n    <tr>\n      <th>2</th>\n      <td>刻意练习</td>\n      <td>23</td>\n    </tr>\n  </tbody>\n</table>\n</div>"
     },
     "metadata": {},
     "execution_count": 17
    }
   ],
   "source": [
    "df.to_excel('book.xlsx',index=False, sheet_name='Sheet1')\n",
    "pd.read_excel('book.xlsx', 'Sheet1', index_col=None, na_values=['NA'])"
   ]
  },
  {
   "cell_type": "code",
   "execution_count": null,
   "metadata": {},
   "outputs": [],
   "source": []
  }
 ],
 "metadata": {
  "kernelspec": {
   "display_name": "Python 3",
   "language": "python",
   "name": "python3"
  },
  "language_info": {
   "codemirror_mode": {
    "name": "ipython",
    "version": 3
   },
   "file_extension": ".py",
   "mimetype": "text/x-python",
   "name": "python",
   "nbconvert_exporter": "python",
   "pygments_lexer": "ipython3",
   "version": "3.7.6-candidate"
  }
 },
 "nbformat": 4,
 "nbformat_minor": 4
}